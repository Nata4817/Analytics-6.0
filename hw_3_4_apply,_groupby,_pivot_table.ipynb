{
 "cells": [
  {
   "cell_type": "markdown",
   "metadata": {
    "id": "LwNpAFw_eTF3"
   },
   "source": [
    "#Домашнє завдання до тем apply(), groupby(), pivot_table()"
   ]
  },
  {
   "cell_type": "markdown",
   "metadata": {
    "id": "vP2PEJyq8Yrj"
   },
   "source": [
    "В цьому домашньому завданні продовжуємо працювати з набором даних `supermarket_sales.csv`."
   ]
  },
  {
   "cell_type": "markdown",
   "metadata": {
    "id": "dh9lfpDb8gBL"
   },
   "source": [
    "0. Імпортуйте бібліотеку pandas та зчитайте дані у змінну `df` типу `pandas.DataFrame`."
   ]
  },
  {
   "cell_type": "code",
   "execution_count": 1,
   "metadata": {
    "id": "xBI9gJMK8qnl"
   },
   "outputs": [],
   "source": [
    "import pandas as pd\n",
    "df = pd.read_csv('data/supermarket_sales.csv')"
   ]
  },
  {
   "cell_type": "markdown",
   "metadata": {
    "id": "28638363"
   },
   "source": [
    "1. Дослідимо, який філіал супермаркету ('Branch') є найприбутковішим. Для цього знайдіть сумарний прибуток за кожним філіалом і виявіть, який філіал має найвищий."
   ]
  },
  {
   "cell_type": "code",
   "execution_count": 2,
   "metadata": {
    "ExecuteTime": {
     "end_time": "2022-11-01T17:27:42.023877Z",
     "start_time": "2022-11-01T17:27:42.020277Z"
    },
    "id": "916d731d"
   },
   "outputs": [
    {
     "name": "stdout",
     "output_type": "stream",
     "text": [
      "Сумарний прибуток за кожним філіалом:\n",
      "Branch\n",
      "A    106200.3705\n",
      "B    106197.6720\n",
      "C    110568.7065\n",
      "Name: Total, dtype: float64\n",
      "\n",
      "Філіал з найвищим прибутком: C з прибутком 110568.71\n"
     ]
    }
   ],
   "source": [
    "total_profit_per_branch = df.groupby('Branch')['Total'].sum()\n",
    "max_profit_branch = total_profit_per_branch.idxmax()\n",
    "max_profit = total_profit_per_branch.max()\n",
    "print(\"Сумарний прибуток за кожним філіалом:\")\n",
    "print(total_profit_per_branch)\n",
    "print(f\"\\nФіліал з найвищим прибутком: {max_profit_branch} з прибутком {max_profit:.2f}\")"
   ]
  },
  {
   "cell_type": "markdown",
   "metadata": {
    "id": "2qL_OddUCZKK"
   },
   "source": [
    "2. В якому місті знайходиться філіал з найвищим прибутком? Може в тому місці нам розмітисти ще один магазин.  \n",
    "Знайдіть відповідь за допомогою функціоналу Pandas."
   ]
  },
  {
   "cell_type": "code",
   "execution_count": 3,
   "metadata": {
    "id": "bBJUc1dWCwdi"
   },
   "outputs": [
    {
     "name": "stdout",
     "output_type": "stream",
     "text": [
      "Філіал з найвищим прибутком: C з прибутком 110568.71\n",
      "Місто, де знаходиться філіал з найвищим прибутком: Naypyitaw\n",
      "\n",
      "Дані для перевірки:\n"
     ]
    },
    {
     "data": {
      "text/html": [
       "<div>\n",
       "<style scoped>\n",
       "    .dataframe tbody tr th:only-of-type {\n",
       "        vertical-align: middle;\n",
       "    }\n",
       "\n",
       "    .dataframe tbody tr th {\n",
       "        vertical-align: top;\n",
       "    }\n",
       "\n",
       "    .dataframe thead th {\n",
       "        text-align: right;\n",
       "    }\n",
       "</style>\n",
       "<table border=\"1\" class=\"dataframe\">\n",
       "  <thead>\n",
       "    <tr style=\"text-align: right;\">\n",
       "      <th></th>\n",
       "      <th>Invoice ID</th>\n",
       "      <th>Branch</th>\n",
       "      <th>City</th>\n",
       "      <th>Customer type</th>\n",
       "      <th>Gender</th>\n",
       "      <th>Product line</th>\n",
       "      <th>Unit price</th>\n",
       "      <th>Quantity</th>\n",
       "      <th>Tax 5%</th>\n",
       "      <th>Total</th>\n",
       "      <th>Date</th>\n",
       "      <th>Time</th>\n",
       "      <th>Payment</th>\n",
       "      <th>cogs</th>\n",
       "      <th>gross margin percentage</th>\n",
       "      <th>gross income</th>\n",
       "      <th>Rating</th>\n",
       "    </tr>\n",
       "  </thead>\n",
       "  <tbody>\n",
       "    <tr>\n",
       "      <th>1</th>\n",
       "      <td>226-31-3081</td>\n",
       "      <td>C</td>\n",
       "      <td>Naypyitaw</td>\n",
       "      <td>Normal</td>\n",
       "      <td>Female</td>\n",
       "      <td>Electronic accessories</td>\n",
       "      <td>15.28</td>\n",
       "      <td>5</td>\n",
       "      <td>3.8200</td>\n",
       "      <td>80.2200</td>\n",
       "      <td>3/8/2019</td>\n",
       "      <td>10:29</td>\n",
       "      <td>Cash</td>\n",
       "      <td>76.40</td>\n",
       "      <td>4.761905</td>\n",
       "      <td>3.8200</td>\n",
       "      <td>9.6</td>\n",
       "    </tr>\n",
       "    <tr>\n",
       "      <th>5</th>\n",
       "      <td>699-14-3026</td>\n",
       "      <td>C</td>\n",
       "      <td>Naypyitaw</td>\n",
       "      <td>Normal</td>\n",
       "      <td>Male</td>\n",
       "      <td>Electronic accessories</td>\n",
       "      <td>85.39</td>\n",
       "      <td>7</td>\n",
       "      <td>29.8865</td>\n",
       "      <td>627.6165</td>\n",
       "      <td>3/25/2019</td>\n",
       "      <td>18:30</td>\n",
       "      <td>Ewallet</td>\n",
       "      <td>597.73</td>\n",
       "      <td>4.761905</td>\n",
       "      <td>29.8865</td>\n",
       "      <td>4.1</td>\n",
       "    </tr>\n",
       "    <tr>\n",
       "      <th>7</th>\n",
       "      <td>315-22-5665</td>\n",
       "      <td>C</td>\n",
       "      <td>Naypyitaw</td>\n",
       "      <td>Normal</td>\n",
       "      <td>Female</td>\n",
       "      <td>Home and lifestyle</td>\n",
       "      <td>73.56</td>\n",
       "      <td>10</td>\n",
       "      <td>36.7800</td>\n",
       "      <td>772.3800</td>\n",
       "      <td>2/24/2019</td>\n",
       "      <td>11:38</td>\n",
       "      <td>Ewallet</td>\n",
       "      <td>735.60</td>\n",
       "      <td>4.761905</td>\n",
       "      <td>36.7800</td>\n",
       "      <td>8.0</td>\n",
       "    </tr>\n",
       "    <tr>\n",
       "      <th>20</th>\n",
       "      <td>300-71-4605</td>\n",
       "      <td>C</td>\n",
       "      <td>Naypyitaw</td>\n",
       "      <td>Member</td>\n",
       "      <td>Male</td>\n",
       "      <td>Electronic accessories</td>\n",
       "      <td>86.04</td>\n",
       "      <td>5</td>\n",
       "      <td>21.5100</td>\n",
       "      <td>451.7100</td>\n",
       "      <td>2/25/2019</td>\n",
       "      <td>11:24</td>\n",
       "      <td>Ewallet</td>\n",
       "      <td>430.20</td>\n",
       "      <td>4.761905</td>\n",
       "      <td>21.5100</td>\n",
       "      <td>4.8</td>\n",
       "    </tr>\n",
       "    <tr>\n",
       "      <th>34</th>\n",
       "      <td>183-56-6882</td>\n",
       "      <td>C</td>\n",
       "      <td>Naypyitaw</td>\n",
       "      <td>Member</td>\n",
       "      <td>Female</td>\n",
       "      <td>Food and beverages</td>\n",
       "      <td>99.42</td>\n",
       "      <td>4</td>\n",
       "      <td>19.8840</td>\n",
       "      <td>417.5640</td>\n",
       "      <td>2/6/2019</td>\n",
       "      <td>10:42</td>\n",
       "      <td>Ewallet</td>\n",
       "      <td>397.68</td>\n",
       "      <td>4.761905</td>\n",
       "      <td>19.8840</td>\n",
       "      <td>7.5</td>\n",
       "    </tr>\n",
       "  </tbody>\n",
       "</table>\n",
       "</div>"
      ],
      "text/plain": [
       "     Invoice ID Branch       City Customer type  Gender  \\\n",
       "1   226-31-3081      C  Naypyitaw        Normal  Female   \n",
       "5   699-14-3026      C  Naypyitaw        Normal    Male   \n",
       "7   315-22-5665      C  Naypyitaw        Normal  Female   \n",
       "20  300-71-4605      C  Naypyitaw        Member    Male   \n",
       "34  183-56-6882      C  Naypyitaw        Member  Female   \n",
       "\n",
       "              Product line  Unit price  Quantity   Tax 5%     Total  \\\n",
       "1   Electronic accessories       15.28         5   3.8200   80.2200   \n",
       "5   Electronic accessories       85.39         7  29.8865  627.6165   \n",
       "7       Home and lifestyle       73.56        10  36.7800  772.3800   \n",
       "20  Electronic accessories       86.04         5  21.5100  451.7100   \n",
       "34      Food and beverages       99.42         4  19.8840  417.5640   \n",
       "\n",
       "         Date   Time  Payment    cogs  gross margin percentage  gross income  \\\n",
       "1    3/8/2019  10:29     Cash   76.40                 4.761905        3.8200   \n",
       "5   3/25/2019  18:30  Ewallet  597.73                 4.761905       29.8865   \n",
       "7   2/24/2019  11:38  Ewallet  735.60                 4.761905       36.7800   \n",
       "20  2/25/2019  11:24  Ewallet  430.20                 4.761905       21.5100   \n",
       "34   2/6/2019  10:42  Ewallet  397.68                 4.761905       19.8840   \n",
       "\n",
       "    Rating  \n",
       "1      9.6  \n",
       "5      4.1  \n",
       "7      8.0  \n",
       "20     4.8  \n",
       "34     7.5  "
      ]
     },
     "execution_count": 3,
     "metadata": {},
     "output_type": "execute_result"
    }
   ],
   "source": [
    "total_profit_per_branch = df.groupby('Branch')['Total'].sum()\n",
    "max_profit_branch = total_profit_per_branch.idxmax()\n",
    "max_profit = total_profit_per_branch.max()\n",
    "print(f\"Філіал з найвищим прибутком: {max_profit_branch} з прибутком {max_profit:.2f}\")\n",
    "city_of_max_profit_branch = df[df['Branch'] == max_profit_branch]['City'].iloc[0]\n",
    "print(f\"Місто, де знаходиться філіал з найвищим прибутком: {city_of_max_profit_branch}\")\n",
    "\n",
    "print(\"\\nДані для перевірки:\")\n",
    "df[df['Branch'] == max_profit_branch].head()"
   ]
  },
  {
   "cell_type": "markdown",
   "metadata": {
    "id": "6dec795f"
   },
   "source": [
    "3.1. Створіть зводну таблицю, яка покаже, скільки покупок (інвойсів) було зроблено в кожній з філій (`Branch`) за різними категоріями товарів. Запишіть таблицю в змінну `invoices_by_category` і виведіть змінну на екран.\n",
    "Ця таблиця допоможе проаналізувати, в якій філії купують найбільше товарів кожної з категорій."
   ]
  },
  {
   "cell_type": "code",
   "execution_count": 5,
   "metadata": {
    "id": "N7TfUBf4ZrkX"
   },
   "outputs": [
    {
     "name": "stdout",
     "output_type": "stream",
     "text": [
      "Зводна таблиця кількості покупок за категоріями товарів у кожній філії:\n"
     ]
    },
    {
     "data": {
      "text/html": [
       "<div>\n",
       "<style scoped>\n",
       "    .dataframe tbody tr th:only-of-type {\n",
       "        vertical-align: middle;\n",
       "    }\n",
       "\n",
       "    .dataframe tbody tr th {\n",
       "        vertical-align: top;\n",
       "    }\n",
       "\n",
       "    .dataframe thead th {\n",
       "        text-align: right;\n",
       "    }\n",
       "</style>\n",
       "<table border=\"1\" class=\"dataframe\">\n",
       "  <thead>\n",
       "    <tr style=\"text-align: right;\">\n",
       "      <th>Product line</th>\n",
       "      <th>Electronic accessories</th>\n",
       "      <th>Fashion accessories</th>\n",
       "      <th>Food and beverages</th>\n",
       "      <th>Health and beauty</th>\n",
       "      <th>Home and lifestyle</th>\n",
       "      <th>Sports and travel</th>\n",
       "    </tr>\n",
       "    <tr>\n",
       "      <th>Branch</th>\n",
       "      <th></th>\n",
       "      <th></th>\n",
       "      <th></th>\n",
       "      <th></th>\n",
       "      <th></th>\n",
       "      <th></th>\n",
       "    </tr>\n",
       "  </thead>\n",
       "  <tbody>\n",
       "    <tr>\n",
       "      <th>A</th>\n",
       "      <td>60</td>\n",
       "      <td>51</td>\n",
       "      <td>58</td>\n",
       "      <td>47</td>\n",
       "      <td>65</td>\n",
       "      <td>59</td>\n",
       "    </tr>\n",
       "    <tr>\n",
       "      <th>B</th>\n",
       "      <td>55</td>\n",
       "      <td>62</td>\n",
       "      <td>50</td>\n",
       "      <td>53</td>\n",
       "      <td>50</td>\n",
       "      <td>62</td>\n",
       "    </tr>\n",
       "    <tr>\n",
       "      <th>C</th>\n",
       "      <td>55</td>\n",
       "      <td>65</td>\n",
       "      <td>66</td>\n",
       "      <td>52</td>\n",
       "      <td>45</td>\n",
       "      <td>45</td>\n",
       "    </tr>\n",
       "  </tbody>\n",
       "</table>\n",
       "</div>"
      ],
      "text/plain": [
       "Product line  Electronic accessories  Fashion accessories  Food and beverages  \\\n",
       "Branch                                                                          \n",
       "A                                 60                   51                  58   \n",
       "B                                 55                   62                  50   \n",
       "C                                 55                   65                  66   \n",
       "\n",
       "Product line  Health and beauty  Home and lifestyle  Sports and travel  \n",
       "Branch                                                                  \n",
       "A                            47                  65                 59  \n",
       "B                            53                  50                 62  \n",
       "C                            52                  45                 45  "
      ]
     },
     "execution_count": 5,
     "metadata": {},
     "output_type": "execute_result"
    }
   ],
   "source": [
    "invoices_by_category = df.pivot_table(\n",
    "    index='Branch',  # Рядки: Філіали\n",
    "    columns='Product line',  # Стовпці: Категорії товарів\n",
    "    values='Invoice ID',  # Значення для підрахунку: Номери інвойсів\n",
    "    aggfunc='count',  # Агрегуюча функція: Підрахунок кількості\n",
    "    fill_value=0  # Значення для заповнення пропусків\n",
    ")\n",
    "\n",
    "print(\"Зводна таблиця кількості покупок за категоріями товарів у кожній філії:\")\n",
    "invoices_by_category"
   ]
  },
  {
   "cell_type": "markdown",
   "metadata": {
    "ExecuteTime": {
     "end_time": "2022-11-01T16:50:46.961201Z",
     "start_time": "2022-11-01T16:50:46.955894Z"
    },
    "id": "f5bbfa34"
   },
   "source": [
    "Очікуваний результат:"
   ]
  },
  {
   "cell_type": "markdown",
   "metadata": {
    "id": "34b9bcdc"
   },
   "source": [
    "![](https://drive.google.com/uc?export=view&id=1rueAdko6S3UxIHGtojetTxlES-EyM6Yb)"
   ]
  },
  {
   "cell_type": "markdown",
   "metadata": {
    "id": "woygDEA0OSwJ"
   },
   "source": [
    "3.2. Викристовуючи змінну `invoices_by_category` дайте відповідь програмно (тобто значення треба не просто знайти очима, а вивести за допомогою коду), в якому філіалі магазину (`Branch`) найбільше інвойсів із покупкою товарів категорії \"Електронні аксесуари\" (`Electronic accessories`)?\n"
   ]
  },
  {
   "cell_type": "code",
   "execution_count": 6,
   "metadata": {
    "id": "B5x8kTE-Qcq8"
   },
   "outputs": [
    {
     "name": "stdout",
     "output_type": "stream",
     "text": [
      "Філіал з найбільшим числом інвойсів для категорії 'Electronic accessories': A\n",
      "Кількість інвойсів: 60\n"
     ]
    }
   ],
   "source": [
    "invoices_by_category = df.pivot_table(\n",
    "    index='Branch',  # Рядки: Філіали\n",
    "    columns='Product line',  # Стовпці: Категорії товарів\n",
    "    values='Invoice ID',  # Значення для підрахунку: Номери інвойсів\n",
    "    aggfunc='count',  # Агрегуюча функція: Підрахунок кількості\n",
    "    fill_value=0  # Значення для заповнення пропусків\n",
    ")\n",
    "max_invoices_branch = invoices_by_category['Electronic accessories'].idxmax()\n",
    "max_invoices_count = invoices_by_category['Electronic accessories'].max()\n",
    "print(f\"Філіал з найбільшим числом інвойсів для категорії 'Electronic accessories': {max_invoices_branch}\")\n",
    "print(f\"Кількість інвойсів: {max_invoices_count}\")"
   ]
  },
  {
   "cell_type": "markdown",
   "metadata": {
    "ExecuteTime": {
     "end_time": "2022-11-01T17:56:02.981755Z",
     "start_time": "2022-11-01T17:56:02.977086Z"
    },
    "id": "d005a2b8"
   },
   "source": [
    "4-6. **Творче завдання на розвиток аналітичного мислення**\n",
    "\n",
    "Крок 1. Сформулюйте ТРИ питання (гіпотези) до наявних даних, які допомогли б вам зрозуміти, які користувачі що, де та коли найбільше/найменше купують, аби дати на основі цих гіпотез рекомендації бізнесу. Звісно питання мають бути не тими, на які ми вже відповіли в завданнях модулю.\n",
    "\n",
    "Крок 2. Знайдіть відповіді на свої питання з допомогою функціоналу pandas.\n",
    "\n",
    "Крок 3. Напишіть, як відповідь на це питання може бути використана для прийняття бізнес рішень.   \n",
    "   \n",
    " Питання можуть бути будь-якої складності, але їх має бути 3. Кожне питання оцінюється як 1 завдання. Без виконання цього завдання ДЗ не приймається. Якщо є питання щодо виконання - пишіть у чат 🙌\n"
   ]
  },
  {
   "cell_type": "markdown",
   "metadata": {
    "id": "cM3cApWSZuRX"
   },
   "source": [
    "Крок 1: Формулювання питань (гіпотез)\r\n",
    "1.   Які категорії товарів є найпопулярнішими в різних філіалах в різні дні тижня?\r\n",
    "        Гіпотеза: Можливо, деякі категорії товарів користуються попитом лише у певні дні тижня, що може допомогти в плануванні акцій та розпродажів2. \n",
    "    Яка кореляція між сумарною кількістю покупок і сумарним прибутком у різних філіалах?\r\n",
    "        Гіпотеза: Можливо, є філіали, де висока кількість покупок не завжди призводить до високого прибутку, що може вказувати на проблеми з ціноутворенням або якістю това3. \r\n",
    "\r\n",
    "    Чи впливають час доби та день тижня на середню вартість покупки у різних філіалах?\r\n",
    "        Гіпотеза: Можливо, середня вартість покупки змінюється в залежності від часу доби або дня тижня, що може допомогти в оптимізації графіків роботи співробітників та спеціальних пропозицій."
   ]
  },
  {
   "cell_type": "code",
   "execution_count": 10,
   "metadata": {},
   "outputs": [
    {
     "name": "stdout",
     "output_type": "stream",
     "text": [
      "Кількість покупок за категоріями та днями тижня:\n"
     ]
    },
    {
     "data": {
      "text/html": [
       "<div>\n",
       "<style scoped>\n",
       "    .dataframe tbody tr th:only-of-type {\n",
       "        vertical-align: middle;\n",
       "    }\n",
       "\n",
       "    .dataframe tbody tr th {\n",
       "        vertical-align: top;\n",
       "    }\n",
       "\n",
       "    .dataframe thead th {\n",
       "        text-align: right;\n",
       "    }\n",
       "</style>\n",
       "<table border=\"1\" class=\"dataframe\">\n",
       "  <thead>\n",
       "    <tr style=\"text-align: right;\">\n",
       "      <th></th>\n",
       "      <th>Product line</th>\n",
       "      <th>Electronic accessories</th>\n",
       "      <th>Fashion accessories</th>\n",
       "      <th>Food and beverages</th>\n",
       "      <th>Health and beauty</th>\n",
       "      <th>Home and lifestyle</th>\n",
       "      <th>Sports and travel</th>\n",
       "    </tr>\n",
       "    <tr>\n",
       "      <th>Branch</th>\n",
       "      <th>Day of Week</th>\n",
       "      <th></th>\n",
       "      <th></th>\n",
       "      <th></th>\n",
       "      <th></th>\n",
       "      <th></th>\n",
       "      <th></th>\n",
       "    </tr>\n",
       "  </thead>\n",
       "  <tbody>\n",
       "    <tr>\n",
       "      <th rowspan=\"7\" valign=\"top\">A</th>\n",
       "      <th>Friday</th>\n",
       "      <td>6</td>\n",
       "      <td>9</td>\n",
       "      <td>7</td>\n",
       "      <td>6</td>\n",
       "      <td>14</td>\n",
       "      <td>8</td>\n",
       "    </tr>\n",
       "    <tr>\n",
       "      <th>Monday</th>\n",
       "      <td>10</td>\n",
       "      <td>7</td>\n",
       "      <td>6</td>\n",
       "      <td>9</td>\n",
       "      <td>9</td>\n",
       "      <td>7</td>\n",
       "    </tr>\n",
       "    <tr>\n",
       "      <th>Saturday</th>\n",
       "      <td>6</td>\n",
       "      <td>8</td>\n",
       "      <td>12</td>\n",
       "      <td>4</td>\n",
       "      <td>8</td>\n",
       "      <td>12</td>\n",
       "    </tr>\n",
       "    <tr>\n",
       "      <th>Sunday</th>\n",
       "      <td>5</td>\n",
       "      <td>9</td>\n",
       "      <td>9</td>\n",
       "      <td>6</td>\n",
       "      <td>14</td>\n",
       "      <td>9</td>\n",
       "    </tr>\n",
       "    <tr>\n",
       "      <th>Thursday</th>\n",
       "      <td>13</td>\n",
       "      <td>3</td>\n",
       "      <td>7</td>\n",
       "      <td>9</td>\n",
       "      <td>7</td>\n",
       "      <td>7</td>\n",
       "    </tr>\n",
       "    <tr>\n",
       "      <th>Tuesday</th>\n",
       "      <td>13</td>\n",
       "      <td>10</td>\n",
       "      <td>4</td>\n",
       "      <td>6</td>\n",
       "      <td>8</td>\n",
       "      <td>10</td>\n",
       "    </tr>\n",
       "    <tr>\n",
       "      <th>Wednesday</th>\n",
       "      <td>7</td>\n",
       "      <td>5</td>\n",
       "      <td>13</td>\n",
       "      <td>7</td>\n",
       "      <td>5</td>\n",
       "      <td>6</td>\n",
       "    </tr>\n",
       "    <tr>\n",
       "      <th rowspan=\"7\" valign=\"top\">B</th>\n",
       "      <th>Friday</th>\n",
       "      <td>4</td>\n",
       "      <td>13</td>\n",
       "      <td>6</td>\n",
       "      <td>12</td>\n",
       "      <td>7</td>\n",
       "      <td>9</td>\n",
       "    </tr>\n",
       "    <tr>\n",
       "      <th>Monday</th>\n",
       "      <td>6</td>\n",
       "      <td>5</td>\n",
       "      <td>7</td>\n",
       "      <td>9</td>\n",
       "      <td>6</td>\n",
       "      <td>6</td>\n",
       "    </tr>\n",
       "    <tr>\n",
       "      <th>Saturday</th>\n",
       "      <td>15</td>\n",
       "      <td>12</td>\n",
       "      <td>8</td>\n",
       "      <td>7</td>\n",
       "      <td>10</td>\n",
       "      <td>8</td>\n",
       "    </tr>\n",
       "    <tr>\n",
       "      <th>Sunday</th>\n",
       "      <td>5</td>\n",
       "      <td>4</td>\n",
       "      <td>6</td>\n",
       "      <td>3</td>\n",
       "      <td>9</td>\n",
       "      <td>8</td>\n",
       "    </tr>\n",
       "    <tr>\n",
       "      <th>Thursday</th>\n",
       "      <td>12</td>\n",
       "      <td>9</td>\n",
       "      <td>3</td>\n",
       "      <td>4</td>\n",
       "      <td>7</td>\n",
       "      <td>9</td>\n",
       "    </tr>\n",
       "    <tr>\n",
       "      <th>Tuesday</th>\n",
       "      <td>6</td>\n",
       "      <td>7</td>\n",
       "      <td>10</td>\n",
       "      <td>11</td>\n",
       "      <td>8</td>\n",
       "      <td>11</td>\n",
       "    </tr>\n",
       "    <tr>\n",
       "      <th>Wednesday</th>\n",
       "      <td>7</td>\n",
       "      <td>12</td>\n",
       "      <td>10</td>\n",
       "      <td>7</td>\n",
       "      <td>3</td>\n",
       "      <td>11</td>\n",
       "    </tr>\n",
       "    <tr>\n",
       "      <th rowspan=\"7\" valign=\"top\">C</th>\n",
       "      <th>Friday</th>\n",
       "      <td>7</td>\n",
       "      <td>8</td>\n",
       "      <td>6</td>\n",
       "      <td>8</td>\n",
       "      <td>3</td>\n",
       "      <td>6</td>\n",
       "    </tr>\n",
       "    <tr>\n",
       "      <th>Monday</th>\n",
       "      <td>7</td>\n",
       "      <td>6</td>\n",
       "      <td>9</td>\n",
       "      <td>8</td>\n",
       "      <td>5</td>\n",
       "      <td>3</td>\n",
       "    </tr>\n",
       "    <tr>\n",
       "      <th>Saturday</th>\n",
       "      <td>6</td>\n",
       "      <td>15</td>\n",
       "      <td>11</td>\n",
       "      <td>8</td>\n",
       "      <td>6</td>\n",
       "      <td>8</td>\n",
       "    </tr>\n",
       "    <tr>\n",
       "      <th>Sunday</th>\n",
       "      <td>10</td>\n",
       "      <td>7</td>\n",
       "      <td>8</td>\n",
       "      <td>5</td>\n",
       "      <td>9</td>\n",
       "      <td>7</td>\n",
       "    </tr>\n",
       "    <tr>\n",
       "      <th>Thursday</th>\n",
       "      <td>11</td>\n",
       "      <td>9</td>\n",
       "      <td>10</td>\n",
       "      <td>6</td>\n",
       "      <td>5</td>\n",
       "      <td>7</td>\n",
       "    </tr>\n",
       "    <tr>\n",
       "      <th>Tuesday</th>\n",
       "      <td>10</td>\n",
       "      <td>9</td>\n",
       "      <td>12</td>\n",
       "      <td>12</td>\n",
       "      <td>6</td>\n",
       "      <td>5</td>\n",
       "    </tr>\n",
       "    <tr>\n",
       "      <th>Wednesday</th>\n",
       "      <td>4</td>\n",
       "      <td>11</td>\n",
       "      <td>10</td>\n",
       "      <td>5</td>\n",
       "      <td>11</td>\n",
       "      <td>9</td>\n",
       "    </tr>\n",
       "  </tbody>\n",
       "</table>\n",
       "</div>"
      ],
      "text/plain": [
       "Product line        Electronic accessories  Fashion accessories  \\\n",
       "Branch Day of Week                                                \n",
       "A      Friday                            6                    9   \n",
       "       Monday                           10                    7   \n",
       "       Saturday                          6                    8   \n",
       "       Sunday                            5                    9   \n",
       "       Thursday                         13                    3   \n",
       "       Tuesday                          13                   10   \n",
       "       Wednesday                         7                    5   \n",
       "B      Friday                            4                   13   \n",
       "       Monday                            6                    5   \n",
       "       Saturday                         15                   12   \n",
       "       Sunday                            5                    4   \n",
       "       Thursday                         12                    9   \n",
       "       Tuesday                           6                    7   \n",
       "       Wednesday                         7                   12   \n",
       "C      Friday                            7                    8   \n",
       "       Monday                            7                    6   \n",
       "       Saturday                          6                   15   \n",
       "       Sunday                           10                    7   \n",
       "       Thursday                         11                    9   \n",
       "       Tuesday                          10                    9   \n",
       "       Wednesday                         4                   11   \n",
       "\n",
       "Product line        Food and beverages  Health and beauty  Home and lifestyle  \\\n",
       "Branch Day of Week                                                              \n",
       "A      Friday                        7                  6                  14   \n",
       "       Monday                        6                  9                   9   \n",
       "       Saturday                     12                  4                   8   \n",
       "       Sunday                        9                  6                  14   \n",
       "       Thursday                      7                  9                   7   \n",
       "       Tuesday                       4                  6                   8   \n",
       "       Wednesday                    13                  7                   5   \n",
       "B      Friday                        6                 12                   7   \n",
       "       Monday                        7                  9                   6   \n",
       "       Saturday                      8                  7                  10   \n",
       "       Sunday                        6                  3                   9   \n",
       "       Thursday                      3                  4                   7   \n",
       "       Tuesday                      10                 11                   8   \n",
       "       Wednesday                    10                  7                   3   \n",
       "C      Friday                        6                  8                   3   \n",
       "       Monday                        9                  8                   5   \n",
       "       Saturday                     11                  8                   6   \n",
       "       Sunday                        8                  5                   9   \n",
       "       Thursday                     10                  6                   5   \n",
       "       Tuesday                      12                 12                   6   \n",
       "       Wednesday                    10                  5                  11   \n",
       "\n",
       "Product line        Sports and travel  \n",
       "Branch Day of Week                     \n",
       "A      Friday                       8  \n",
       "       Monday                       7  \n",
       "       Saturday                    12  \n",
       "       Sunday                       9  \n",
       "       Thursday                     7  \n",
       "       Tuesday                     10  \n",
       "       Wednesday                    6  \n",
       "B      Friday                       9  \n",
       "       Monday                       6  \n",
       "       Saturday                     8  \n",
       "       Sunday                       8  \n",
       "       Thursday                     9  \n",
       "       Tuesday                     11  \n",
       "       Wednesday                   11  \n",
       "C      Friday                       6  \n",
       "       Monday                       3  \n",
       "       Saturday                     8  \n",
       "       Sunday                       7  \n",
       "       Thursday                     7  \n",
       "       Tuesday                      5  \n",
       "       Wednesday                    9  "
      ]
     },
     "execution_count": 10,
     "metadata": {},
     "output_type": "execute_result"
    }
   ],
   "source": [
    "# 1. Які категорії товарів є найпопулярнішими в різних філіалах в різні дні тижня? \n",
    "\n",
    "df['Day of Week'] = pd.to_datetime(df['Date']).dt.day_name()\n",
    "category_day_pivot = df.pivot_table(\n",
    "    index=['Branch', 'Day of Week'],\n",
    "    columns='Product line',\n",
    "    values='Invoice ID',\n",
    "    aggfunc='count',\n",
    "    fill_value=0\n",
    ")\n",
    "\n",
    "print(\"Кількість покупок за категоріями та днями тижня:\")\n",
    "category_day_pivot\n"
   ]
  },
  {
   "cell_type": "code",
   "execution_count": 11,
   "metadata": {},
   "outputs": [
    {
     "name": "stdout",
     "output_type": "stream",
     "text": [
      "Кореляція між сумарним прибутком і кількістю покупок у філіалах: -0.76\n"
     ]
    }
   ],
   "source": [
    "# 2: Яка кореляція між сумарною кількістю покупок і сумарним прибутком у різних філіалах?  \n",
    "\n",
    "branch_summary = df.groupby('Branch').agg(\n",
    "    total_sales=('Total', 'sum'),\n",
    "    total_invoices=('Invoice ID', 'count')\n",
    ")\n",
    "correlation = branch_summary['total_sales'].corr(branch_summary['total_invoices'])\n",
    "print(f\"Кореляція між сумарним прибутком і кількістю покупок у філіалах: {correlation:.2f}\")\n"
   ]
  },
  {
   "cell_type": "code",
   "execution_count": 21,
   "metadata": {},
   "outputs": [
    {
     "name": "stdout",
     "output_type": "stream",
     "text": [
      "Середня вартість покупки за часом доби та днями тижня:\n",
      "                              Total\n",
      "Branch Day of Week Hour            \n",
      "A      Friday      0     290.877300\n",
      "       Monday      0     296.647094\n",
      "       Saturday    0     335.308260\n",
      "       Sunday      0     327.054202\n",
      "       Thursday    0     335.266826\n",
      "       Tuesday     0     293.239471\n",
      "       Wednesday   0     308.551779\n",
      "B      Friday      0     282.701176\n",
      "       Monday      0     326.530885\n",
      "       Saturday    0     354.740400\n",
      "       Sunday      0     297.580800\n",
      "       Thursday    0     358.605068\n",
      "       Tuesday     0     355.834698\n",
      "       Wednesday   0     254.151870\n",
      "C      Friday      0     393.808303\n",
      "       Monday      0     287.508237\n",
      "       Saturday    0     334.647639\n",
      "       Sunday      0     370.342304\n",
      "       Thursday    0     294.757313\n",
      "       Tuesday     0     327.181361\n",
      "       Wednesday   0     355.116300\n"
     ]
    }
   ],
   "source": [
    "# 3: Чи впливають час доби та день тижня на середню вартість покупки у різних філіалах? \n",
    "\n",
    "df['Hour'] = pd.to_datetime(df['Hour']).dt.hour\n",
    "hourly_sales_pivot = df.pivot_table(\n",
    "    index=['Branch', 'Day of Week', 'Hour'],\n",
    "    values='Total',\n",
    "    aggfunc='mean'\n",
    ")\n",
    "\n",
    "print(\"Середня вартість покупки за часом доби та днями тижня:\")\n",
    "print(hourly_sales_pivot)\n",
    "\n",
    "\n"
   ]
  },
  {
   "cell_type": "markdown",
   "metadata": {},
   "source": [
    "Крок 3: Використання отриманих відповідей для бізнес рішень\n",
    "\n",
    "1. Популярність категорій товарів в різні дні тижня:\n",
    "   - Використання: Розуміння, які категорії товарів користуються попитом у певні дні тижня, дозволяє оптимізувати розклад акцій і знижок. Наприклад, якщо певні категорії товарів популярні в кінці тижня, можна запровадити спеціальні пропозиції саме в ці дні, щоб підвищити продажі.\n",
    "\n",
    "2. Кореляція між сумарною кількістю покупок і прибутком:\n",
    "   - Використання: Аналіз кореляції допоможе визначити, чи є філіали, де високий обсяг продажів не завжди призводить до високих прибутків. Це може свідчити про необхідність перегляду цінової політики або покращення якості товарів у таких філіалах.\n",
    "\n",
    "3. Вплив часу доби та дня тижня на середню вартість покупки:\n",
    "   - Використання: Якщо середня вартість покупки змінюється в залежності від часу доби або дня тижня, можна оптимізувати графіки роботи персоналу і спеціальні пропозиції. Наприклад, підвищення середньої вартості покупок у години пік може бути досягнуто за рахунок спеціальних акцій або пакетів товарів.\n",
    "\n",
    "Ці висновки дозволять бізнесу більш ефективно управляти асортиментом, ціноутворенням і маркетинговими кампаніями, а також покращити обслуговування клієнтів у різних філіалах."
   ]
  }
 ],
 "metadata": {
  "colab": {
   "provenance": []
  },
  "kernelspec": {
   "display_name": "Python 3 (ipykernel)",
   "language": "python",
   "name": "python3"
  },
  "language_info": {
   "codemirror_mode": {
    "name": "ipython",
    "version": 3
   },
   "file_extension": ".py",
   "mimetype": "text/x-python",
   "name": "python",
   "nbconvert_exporter": "python",
   "pygments_lexer": "ipython3",
   "version": "3.12.0"
  }
 },
 "nbformat": 4,
 "nbformat_minor": 4
}
