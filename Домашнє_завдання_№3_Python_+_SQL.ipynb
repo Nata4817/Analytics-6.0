{
 "cells": [
  {
   "cell_type": "markdown",
   "id": "2153041f",
   "metadata": {
    "id": "2153041f"
   },
   "source": [
    "# Завдання на використання SQL в Python"
   ]
  },
  {
   "cell_type": "markdown",
   "id": "2c1af6e1",
   "metadata": {
    "ExecuteTime": {
     "end_time": "2022-11-27T18:04:46.316592Z",
     "start_time": "2022-11-27T18:04:46.302021Z"
    },
    "id": "2c1af6e1"
   },
   "source": [
    "1.Встановіть бібліотеку `mysql-connector-python` через pip aбо через conda."
   ]
  },
  {
   "cell_type": "code",
   "execution_count": 1,
   "id": "a8fcd64e",
   "metadata": {
    "id": "a8fcd64e"
   },
   "outputs": [
    {
     "name": "stdout",
     "output_type": "stream",
     "text": [
      "Requirement already satisfied: mysql-connector-python in c:\\users\\hp\\appdata\\local\\programs\\python\\python312\\lib\\site-packages (9.0.0)\n"
     ]
    }
   ],
   "source": [
    "!pip install mysql-connector-python\n",
    "import mysql.connector\n",
    "from mysql.connector.connection import MySQLConnection\n",
    "import datetime"
   ]
  },
  {
   "cell_type": "markdown",
   "id": "eec5551e",
   "metadata": {
    "id": "eec5551e",
    "pycharm": {
     "name": "#%% md\n"
    }
   },
   "source": [
    "2.В змінній `con` створіть підключення до бази даних employees за аналогією того, як це робилось в лекції:"
   ]
  },
  {
   "cell_type": "code",
   "execution_count": 2,
   "id": "e3fff0d8",
   "metadata": {
    "id": "e3fff0d8"
   },
   "outputs": [],
   "source": [
    "con = mysql.connector.connect(user='root', password='B0984298936n',\n",
    "                              host='127.0.0.1',\n",
    "                              database='employees')"
   ]
  },
  {
   "cell_type": "markdown",
   "id": "8b17a588",
   "metadata": {
    "ExecuteTime": {
     "end_time": "2022-01-26T22:23:01.406330Z",
     "start_time": "2022-01-26T22:23:01.403942Z"
    },
    "id": "8b17a588",
    "pycharm": {
     "name": "#%% md\n"
    }
   },
   "source": [
    "3.Виберіть максимальну і мінімальну дати найму співробітників використовуючи `con.cursor()`. Аби отримати результати в кінці, виконайте `cursor.fetchall()`."
   ]
  },
  {
   "cell_type": "code",
   "execution_count": 3,
   "id": "2d9785de",
   "metadata": {
    "id": "2d9785de"
   },
   "outputs": [
    {
     "name": "stdout",
     "output_type": "stream",
     "text": [
      "[(datetime.date(2000, 1, 28), datetime.date(1985, 1, 1))]\n"
     ]
    }
   ],
   "source": [
    "cursor = con.cursor()\n",
    "query = \"\"\"\n",
    "    SELECT MAX(hire_date) AS max_hire_date, MIN(hire_date) AS min_hire_date \n",
    "    FROM employees;\n",
    "\"\"\"\n",
    "cursor.execute(query)\n",
    "results = cursor.fetchall()\n",
    "print(results)\n",
    "cursor.close()\n",
    "con.close()"
   ]
  },
  {
   "cell_type": "markdown",
   "id": "955dd2fa",
   "metadata": {
    "ExecuteTime": {
     "end_time": "2022-11-27T18:11:33.491134Z",
     "start_time": "2022-11-27T18:11:33.486973Z"
    },
    "id": "955dd2fa"
   },
   "source": [
    "Очікуваний результат:  \n",
    "    `[(datetime.date(2000, 1, 28), datetime.date(1985, 1, 1))]`"
   ]
  },
  {
   "cell_type": "markdown",
   "id": "1d9c214d",
   "metadata": {
    "ExecuteTime": {
     "end_time": "2023-07-14T15:52:49.876166Z",
     "start_time": "2023-07-14T15:52:49.855548Z"
    },
    "id": "1d9c214d"
   },
   "source": [
    "4.Давайте зберемо інформацію про останню ЗП кожного співробіткника в базі. З використанням `con.cursor()` виберіть з таблиці `salaries` для кожного співробітника його номер, останню в базі даних (тобто ту, що відповідає найновішій `to_date`) ЗП, та значення `from_date`, `to_date` для цієї ЗП.\n",
    "\n",
    "Результати запишіть у pandas DataFrame, який збережіть у змінну `res`. Як взяти з курсора назви колонок - вже наведено. На екран виведіть назви колонок в змінній `res`, розмір цього датафрейму та перші 3 записи в ньому.\n",
    "\n",
    "УВАГА! Зверніть увагу, що ЗП може оновлюватись протягом одного дня, тобто є випадки, коли апдейт ЗП був в певний день, скажімо 2001-01-01 і потім стався ще один апдейт ЗП цьому співробітнику цього самого дня. Запит має це враховувати.\n",
    "Також, теоретично ЗП може бути зменшена. Тож, брати дату з максимальною ЗП буде неправильно з точки зору бізнес логіки. Треба саме останнє історичне значення ЗП кожного співробітника."
   ]
  },
  {
   "cell_type": "code",
   "execution_count": 4,
   "id": "f326ba43",
   "metadata": {
    "id": "f326ba43"
   },
   "outputs": [
    {
     "name": "stdout",
     "output_type": "stream",
     "text": [
      "Назви колонок: ['emp_no', 'salary', 'from_date', 'to_date']\n",
      "Розмір DataFrame: (300180, 4)\n",
      "Перші 3 записи:\n",
      "   emp_no  salary   from_date     to_date\n",
      "0   10001   88958  2002-06-22  9999-01-01\n",
      "1   10002   72527  2001-08-02  9999-01-01\n",
      "2   10003   43311  2001-12-01  9999-01-01\n"
     ]
    }
   ],
   "source": [
    "import pandas as pd\n",
    "con = mysql.connector.connect(user='root', password='B0984298936n',\n",
    "                              host='127.0.0.1',\n",
    "                              database='employees')\n",
    "with con.cursor() as cursor:\n",
    "    # Запит для отримання останньої зарплати\n",
    "    query = \"\"\"\n",
    "    SELECT s.emp_no, s.salary, s.from_date, s.to_date\n",
    "    FROM salaries s\n",
    "    INNER JOIN (\n",
    "        SELECT emp_no, MAX(to_date) AS last_to_date\n",
    "        FROM salaries\n",
    "        GROUP BY emp_no\n",
    "    ) AS latest_salary\n",
    "    ON s.emp_no = latest_salary.emp_no AND s.to_date = latest_salary.last_to_date\n",
    "    \"\"\"\n",
    "    cursor.execute(query)\n",
    "    \n",
    "    # Запис результатів у pandas DataFrame\n",
    "    res = pd.DataFrame(cursor.fetchall())\n",
    "\n",
    "# Отримання назв колонок після виконання запиту\n",
    "field_names = [i[0] for i in cursor.description]\n",
    "res.columns = field_names  # Присвоєння назв колонок до DataFrame\n",
    "\n",
    "# Виведення назв колонок, розміру DataFrame та перших 3 записів\n",
    "print(\"Назви колонок:\", res.columns.tolist())\n",
    "print(\"Розмір DataFrame:\", res.shape)\n",
    "print(\"Перші 3 записи:\")\n",
    "print(res.head(3))"
   ]
  },
  {
   "cell_type": "code",
   "execution_count": 5,
   "id": "5c8d5fd0-fac8-48d0-a4ce-2af772969c06",
   "metadata": {
    "ExecuteTime": {
     "end_time": "2023-07-14T16:14:15.617144Z",
     "start_time": "2023-07-14T16:14:15.611369Z"
    },
    "id": "bf5eb14d"
   },
   "outputs": [],
   "source": [
    "field_names = [i[0] for i in cursor.description]"
   ]
  },
  {
   "cell_type": "markdown",
   "id": "975b2f66-8bd8-4f75-8e05-f7f8238fe66e",
   "metadata": {
    "id": "fb5676cb"
   },
   "source": [
    "Очікуваний результат:\n",
    "\n",
    "![](https://drive.google.com/uc?export=view&id=1lNvzbAebtkj3C2v-I5AE6HkMH8MTI1kA)"
   ]
  },
  {
   "cell_type": "markdown",
   "id": "e5770b56",
   "metadata": {
    "ExecuteTime": {
     "end_time": "2023-07-14T16:17:31.638485Z",
     "start_time": "2023-07-14T16:17:31.632827Z"
    },
    "id": "e5770b56"
   },
   "source": [
    "5.В утвореній вибірці в змінній `res` скільки значень `to_date` рівні `9999-01-01`, а скільки - ні? Увага! Для виконання цього завдання важливо розуміти, який тип даних у значень колонки `to_date`. Зʼясуйте це, і потім напишіть фільтр для виводу потрібного результату."
   ]
  },
  {
   "cell_type": "code",
   "execution_count": 6,
   "id": "8a9dc7e5",
   "metadata": {
    "id": "8a9dc7e5"
   },
   "outputs": [
    {
     "name": "stdout",
     "output_type": "stream",
     "text": [
      "Index(['emp_no', 'salary', 'from_date', 'to_date'], dtype='object')\n",
      "(300180, 4)\n",
      "   emp_no  salary   from_date     to_date\n",
      "0   10001   88958  2002-06-22  9999-01-01\n",
      "1   10002   72527  2001-08-02  9999-01-01\n",
      "2   10003   43311  2001-12-01  9999-01-01\n"
     ]
    }
   ],
   "source": [
    "import pandas as pd\n",
    "con = mysql.connector.connect(user='root', password='B0984298936n',\n",
    "                              host='127.0.0.1',\n",
    "                              database='employees')\n",
    "cursor = con.cursor()\n",
    "\n",
    "# SQL запит для отримання останньої зарплати кожного співробітника\n",
    "query = \"\"\"\n",
    "    SELECT emp_no, salary, from_date, to_date\n",
    "    FROM salaries AS s\n",
    "    WHERE to_date = (\n",
    "        SELECT MAX(to_date)\n",
    "        FROM salaries\n",
    "        WHERE emp_no = s.emp_no\n",
    "    );\n",
    "\"\"\"\n",
    "\n",
    "cursor.execute(query)\n",
    "res = pd.DataFrame(cursor.fetchall(), columns=[i[0] for i in cursor.description])\n",
    "\n",
    "# Виведення результату\n",
    "print(res.columns)\n",
    "print(res.shape)\n",
    "print(res.head(3))\n",
    "\n",
    "# Закриття підключення\n",
    "cursor.close()\n",
    "con.close()\n",
    "\n"
   ]
  },
  {
   "cell_type": "markdown",
   "id": "ae22c37a",
   "metadata": {
    "id": "ae22c37a"
   },
   "source": [
    "6.Виведіть візуально розподіл (гістограму) зарплат співробітників, які досі працюють в компанії, використовуючи результат попереднього завдання. Співробітниками, які досі працюють в компанії вважаємо тих, в кого to_date має значення 9999-01-01. Обовʼязково підпишіть графік і вісі.\n",
    "\n",
    "Ці три завдання - приклад, як нам може бути зручно витягнути дані з бази певним запитом, а потім використати витягнуту вибірку у Python для подальшого аналізу."
   ]
  },
  {
   "cell_type": "code",
   "execution_count": 8,
   "id": "dc948d2f-0790-4c08-9c5e-56d7c202963f",
   "metadata": {},
   "outputs": [
    {
     "data": {
      "image/png": "[encoded data removed]",
      "text/plain": [
       "<Figure size 1000x600 with 1 Axes>"
      ]
     },
     "metadata": {},
     "output_type": "display_data"
    }
   ],
   "source": [
    "import matplotlib.pyplot as plt\n",
    "\n",
    "# Фільтрація даних співробітників, які ще працюють в компанії\n",
    "current_employees = res[res['to_date'] == '9999-01-01']\n",
    "\n",
    "# Побудова гістограми із зарплатами співробітників\n",
    "plt.figure(figsize=(10, 6))\n",
    "plt.hist(current_employees['salary'], bins=20, color='blue', edgecolor='black')\n",
    "\n",
    "# Додавання підписів\n",
    "plt.xlabel('Розмір ЗП')\n",
    "plt.ylabel('Кількість співробітників із такою ЗП')\n",
    "plt.title('Розподіл поточних зарплат в компанії')\n",
    "\n",
    "# Встановлення меж осей для відповідності очікуваному результату\n",
    "plt.ylim(0, 70000)\n",
    "plt.xlim(40000, 160000)\n",
    "\n",
    "# Відображення графіку\n",
    "plt.show()\n",
    "\n"
   ]
  },
  {
   "cell_type": "markdown",
   "id": "AL26SP3WMJiX",
   "metadata": {
    "id": "AL26SP3WMJiX"
   },
   "source": [
    "Очікуваний результат:\n",
    "\n",
    "![](https://drive.google.com/uc?export=view&id=1j8MHLC1E0revbQLM9B0UJs6tVEgoWhmK)"
   ]
  },
  {
   "cell_type": "markdown",
   "id": "Cp_JpGPpKmzp",
   "metadata": {
    "id": "Cp_JpGPpKmzp"
   },
   "source": [
    "НЕ ЗАБУВАЄМО ЗАКРИТИ ПІДКЛЮЧЕННЯ ДО БАЗИ :)"
   ]
  },
  {
   "cell_type": "code",
   "execution_count": 9,
   "id": "WEMo9bl6KnMh",
   "metadata": {
    "id": "WEMo9bl6KnMh"
   },
   "outputs": [],
   "source": [
    "con.close()"
   ]
  },
  {
   "cell_type": "code",
   "execution_count": null,
   "id": "e318ab8e-fd0b-478d-8db0-8a80de5542a5",
   "metadata": {},
   "outputs": [],
   "source": []
  }
 ],
 "metadata": {
  "colab": {
   "provenance": []
  },
  "kernelspec": {
   "display_name": "Python 3 (ipykernel)",
   "language": "python",
   "name": "python3"
  },
  "language_info": {
   "codemirror_mode": {
    "name": "ipython",
    "version": 3
   },
   "file_extension": ".py",
   "mimetype": "text/x-python",
   "name": "python",
   "nbconvert_exporter": "python",
   "pygments_lexer": "ipython3",
   "version": "3.12.0"
  },
  "toc": {
   "base_numbering": 1,
   "nav_menu": {},
   "number_sections": true,
   "sideBar": true,
   "skip_h1_title": false,
   "title_cell": "Table of Contents",
   "title_sidebar": "Contents",
   "toc_cell": false,
   "toc_position": {},
   "toc_section_display": true,
   "toc_window_display": false
  },
  "vscode": {
   "interpreter": {
    "hash": "a6511e6b41b26ba86cca7483749cf4dd15bf137a2672e550741a656e19bba82e"
   }
  }
 },
 "nbformat": 4,
 "nbformat_minor": 5
}
